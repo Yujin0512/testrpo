{
  "metadata": {
    "language_info": {
      "codemirror_mode": {
        "name": "python",
        "version": 3
      },
      "file_extension": ".py",
      "mimetype": "text/x-python",
      "name": "python",
      "nbconvert_exporter": "python",
      "pygments_lexer": "ipython3",
      "version": "3.8"
    },
    "kernelspec": {
      "name": "python",
      "display_name": "Python (Pyodide)",
      "language": "python"
    }
  },
  "nbformat_minor": 4,
  "nbformat": 4,
  "cells": [
    {
      "cell_type": "markdown",
      "source": "# My Jupyter Notebook on IBM Watson Studio",
      "metadata": {}
    },
    {
      "cell_type": "markdown",
      "source": "**Yujin Han** , Immunology Analyst",
      "metadata": {}
    },
    {
      "cell_type": "markdown",
      "source": "*I am interested in data science because it is rising star.*\n*These days we have tons of data because of development of the computational power.*\n*So, when we use these data properly, we can act much faster than others.*",
      "metadata": {}
    },
    {
      "cell_type": "markdown",
      "source": "### I will present the answer of the 2*2",
      "metadata": {}
    },
    {
      "cell_type": "code",
      "source": "a = 2\nb = 2\nprint (\"the answer is \", a*b)",
      "metadata": {
        "trusted": true
      },
      "execution_count": 3,
      "outputs": [
        {
          "name": "stdout",
          "text": "the answer is  4\n",
          "output_type": "stream"
        }
      ]
    },
    {
      "cell_type": "markdown",
      "source": "I want to tell you what is my favorite food.\n----------------------------------------------\n* sushi\n* chocholate cake\n* noodle\n* Poke\nYou can find these food images with [google.](https://www.google.com)",
      "metadata": {}
    },
    {
      "cell_type": "code",
      "source": "",
      "metadata": {},
      "execution_count": null,
      "outputs": []
    }
  ]
}